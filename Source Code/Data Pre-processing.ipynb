{
 "cells": [
  {
   "cell_type": "markdown",
   "metadata": {},
   "source": [
    "# Image Pre-Processing"
   ]
  },
  {
   "cell_type": "markdown",
   "metadata": {},
   "source": [
    "### Augmentation"
   ]
  },
  {
   "cell_type": "code",
   "execution_count": 1,
   "metadata": {},
   "outputs": [
    {
     "name": "stderr",
     "output_type": "stream",
     "text": [
      "C:\\Users\\91934\\anaconda3\\lib\\site-packages\\numpy\\_distributor_init.py:30: UserWarning: loaded more than 1 DLL from .libs:\n",
      "C:\\Users\\91934\\anaconda3\\lib\\site-packages\\numpy\\.libs\\libopenblas.NOIJJG62EMASZI6NYURL6JBKM4EVBGM7.gfortran-win_amd64.dll\n",
      "C:\\Users\\91934\\anaconda3\\lib\\site-packages\\numpy\\.libs\\libopenblas.WCDJNK7YVMPZQ2ME2ZZHJJRJ3JIKNDB7.gfortran-win_amd64.dll\n",
      "  warnings.warn(\"loaded more than 1 DLL from .libs:\"\n",
      "Processing <PIL.Image.Image image mode=L size=299x299 at 0x1827F637A30>: 100%|██████████| 20/20 [00:00<00:00, 155.03 Samples/s]               "
     ]
    },
    {
     "name": "stdout",
     "output_type": "stream",
     "text": [
      "Initialised with 11 image(s) found.\n",
      "Output directory set to D:/Sem6/Minor_Project/DEMO_FILTER/input\\output."
     ]
    },
    {
     "name": "stderr",
     "output_type": "stream",
     "text": [
      "\n"
     ]
    }
   ],
   "source": [
    "import Augmentor\n",
    "p = Augmentor.Pipeline(\"D:/Sem6/Minor_Project/DEMO_FILTER/input\")\n",
    "p.rotate(probability=0.5, max_left_rotation=10, max_right_rotation=10)\n",
    "p.zoom(probability=0.5, min_factor=1.2, max_factor=1.2)\n",
    "p.sample(20)"
   ]
  },
  {
   "cell_type": "markdown",
   "metadata": {},
   "source": [
    "### Sharpening"
   ]
  },
  {
   "cell_type": "code",
   "execution_count": 2,
   "metadata": {},
   "outputs": [],
   "source": [
    "import cv2\n",
    "import os\n",
    "from scipy import signal\n",
    "from PIL import Image\n",
    "import math\n",
    "import imageio\n",
    "import numpy as np\n",
    "\n",
    "kernel = [[0,-1,0],\n",
    "           [-1,4,-1],\n",
    "           [0,-1,0]]\n",
    "input_path = \"D:/Sem6/Minor_Project/DEMO_FILTER/input/\"\n",
    "output_path = \"D:/Sem6/Minor_Project/DEMO_FILTER/output/\"\n",
    " \n",
    "i=1\n",
    "for img_file in os.listdir(input_path):  \n",
    "    img=cv2.imread(input_path+img_file,0)\n",
    "    im = signal.convolve(img, kernel, mode='same')\n",
    "    final = im + img\n",
    "    cv2.imwrite(output_path+\"/Covid__\"+str(i)+\".png\", final)\n",
    "    i+=1"
   ]
  },
  {
   "cell_type": "markdown",
   "metadata": {},
   "source": [
    "### Split data into training and testing"
   ]
  },
  {
   "cell_type": "code",
   "execution_count": 4,
   "metadata": {},
   "outputs": [
    {
     "name": "stderr",
     "output_type": "stream",
     "text": [
      "Copying files: 30 files [00:00, 882.37 files/s]\n"
     ]
    }
   ],
   "source": [
    "import splitfolders\n",
    "splitfolders.ratio(\"D:/Sem6/Minor_Project/DEMO_SPLIT/input/\", output=\"D:/Sem6/Minor_Project/DEMO_SPLIT/output\",ratio=(0.7,0.3))"
   ]
  },
  {
   "cell_type": "code",
   "execution_count": null,
   "metadata": {},
   "outputs": [],
   "source": []
  }
 ],
 "metadata": {
  "kernelspec": {
   "display_name": "Python 3",
   "language": "python",
   "name": "python3"
  },
  "language_info": {
   "codemirror_mode": {
    "name": "ipython",
    "version": 3
   },
   "file_extension": ".py",
   "mimetype": "text/x-python",
   "name": "python",
   "nbconvert_exporter": "python",
   "pygments_lexer": "ipython3",
   "version": "3.8.3"
  }
 },
 "nbformat": 4,
 "nbformat_minor": 4
}
