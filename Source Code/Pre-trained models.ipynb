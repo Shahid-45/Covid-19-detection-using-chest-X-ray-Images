{
 "cells": [
  {
   "cell_type": "markdown",
   "metadata": {},
   "source": [
    "# Team D1"
   ]
  },
  {
   "cell_type": "markdown",
   "metadata": {},
   "source": [
    "# \"Covid-19 Detection Using Chest X-Ray Images\""
   ]
  },
  {
   "cell_type": "markdown",
   "metadata": {},
   "source": [
    "## Under The Guidance Of: Ms. Preeti T"
   ]
  },
  {
   "cell_type": "markdown",
   "metadata": {},
   "source": [
    "###### Importing Libraries"
   ]
  },
  {
   "cell_type": "code",
   "execution_count": 1,
   "metadata": {},
   "outputs": [
    {
     "name": "stderr",
     "output_type": "stream",
     "text": [
      "C:\\Users\\91934\\anaconda3\\lib\\site-packages\\numpy\\_distributor_init.py:30: UserWarning: loaded more than 1 DLL from .libs:\n",
      "C:\\Users\\91934\\anaconda3\\lib\\site-packages\\numpy\\.libs\\libopenblas.NOIJJG62EMASZI6NYURL6JBKM4EVBGM7.gfortran-win_amd64.dll\n",
      "C:\\Users\\91934\\anaconda3\\lib\\site-packages\\numpy\\.libs\\libopenblas.WCDJNK7YVMPZQ2ME2ZZHJJRJ3JIKNDB7.gfortran-win_amd64.dll\n",
      "  warnings.warn(\"loaded more than 1 DLL from .libs:\"\n"
     ]
    }
   ],
   "source": [
    "import numpy as np"
   ]
  },
  {
   "cell_type": "code",
   "execution_count": 2,
   "metadata": {},
   "outputs": [],
   "source": [
    "from tensorflow.keras import layers\n",
    "import cv2 as cv\n",
    "import matplotlib.pyplot as plt\n",
    "import os\n",
    "import seaborn as sns"
   ]
  },
  {
   "cell_type": "code",
   "execution_count": 3,
   "metadata": {},
   "outputs": [],
   "source": [
    "import keras\n",
    "from tensorflow.keras.layers import Layer\n",
    "from tensorflow import keras\n",
    "import keras.backend as K\n",
    "import tensorflow as tf"
   ]
  },
  {
   "cell_type": "markdown",
   "metadata": {},
   "source": [
    "###### Specifying the dataset path"
   ]
  },
  {
   "cell_type": "code",
   "execution_count": 7,
   "metadata": {},
   "outputs": [],
   "source": [
    "DATASET=\"D:\\\\Sem6\\\\Minor_Project\\\\Dataset\\\\train\"\n",
    "DATASET2=\"D:\\\\Sem6\\\\Minor_Project\\\\Dataset\\\\test\""
   ]
  },
  {
   "cell_type": "code",
   "execution_count": 8,
   "metadata": {},
   "outputs": [],
   "source": [
    "CATEGORIES=[\"Bacterial_Pneumonia\",\"COVID\",\"Normal\"]"
   ]
  },
  {
   "cell_type": "markdown",
   "metadata": {},
   "source": [
    "###### Loading the dataset"
   ]
  },
  {
   "cell_type": "code",
   "execution_count": 9,
   "metadata": {},
   "outputs": [],
   "source": [
    "train_data=[]\n",
    "\n",
    "for category in CATEGORIES:\n",
    "        label=CATEGORIES.index(category)\n",
    "        path=os.path.join(DATASET,category)\n",
    "        for img_file in os.listdir(path):\n",
    "            img=cv.imread(os.path.join(path,img_file),1)\n",
    "            img=cv.resize(img,(128,128))            \n",
    "            train_data.append([img,label])"
   ]
  },
  {
   "cell_type": "code",
   "execution_count": 10,
   "metadata": {},
   "outputs": [],
   "source": [
    "test_data=[]\n",
    "\n",
    "for category in CATEGORIES:\n",
    "        label=CATEGORIES.index(category)\n",
    "        path=os.path.join(DATASET2,category)\n",
    "        for img_file in os.listdir(path):\n",
    "            img=cv.imread(os.path.join(path,img_file),1)\n",
    "            img=cv.resize(img,(128,128))\n",
    "            test_data.append([img,label])"
   ]
  },
  {
   "cell_type": "code",
   "execution_count": 11,
   "metadata": {},
   "outputs": [
    {
     "name": "stdout",
     "output_type": "stream",
     "text": [
      "8122\n",
      "2033\n"
     ]
    }
   ],
   "source": [
    "print(len(train_data))\n",
    "print(len(test_data))"
   ]
  },
  {
   "cell_type": "code",
   "execution_count": 12,
   "metadata": {},
   "outputs": [],
   "source": [
    "import random\n",
    "\n",
    "random.shuffle(train_data)\n",
    "random.shuffle(test_data)"
   ]
  },
  {
   "cell_type": "code",
   "execution_count": 13,
   "metadata": {},
   "outputs": [],
   "source": [
    "X_train=[]\n",
    "y_train=[]\n",
    "\n",
    "for features,label in train_data:\n",
    "    X_train.append(features)\n",
    "    y_train.append(label)"
   ]
  },
  {
   "cell_type": "code",
   "execution_count": 14,
   "metadata": {},
   "outputs": [],
   "source": [
    "X_test=[]\n",
    "y_test=[]\n",
    "\n",
    "for features,label in test_data:\n",
    "    X_test.append(features)\n",
    "    y_test.append(label)"
   ]
  },
  {
   "cell_type": "code",
   "execution_count": 15,
   "metadata": {},
   "outputs": [
    {
     "data": {
      "text/plain": [
       "(2033, 128, 128, 3)"
      ]
     },
     "execution_count": 15,
     "metadata": {},
     "output_type": "execute_result"
    }
   ],
   "source": [
    "X_train=np.array(X_train).reshape(-1,128,128,3)\n",
    "X_train=X_train/255.0\n",
    "X_train.shape\n",
    "\n",
    "X_test=np.array(X_test).reshape(-1,128,128,3)\n",
    "X_test=X_test/255.0\n",
    "X_test.shape"
   ]
  },
  {
   "cell_type": "code",
   "execution_count": 16,
   "metadata": {},
   "outputs": [
    {
     "data": {
      "text/plain": [
       "array([[0., 1., 0.],\n",
       "       [0., 0., 1.],\n",
       "       [0., 1., 0.],\n",
       "       ...,\n",
       "       [0., 1., 0.],\n",
       "       [0., 0., 1.],\n",
       "       [0., 0., 1.]], dtype=float32)"
      ]
     },
     "execution_count": 16,
     "metadata": {},
     "output_type": "execute_result"
    }
   ],
   "source": [
    "from keras.utils import to_categorical\n",
    "\n",
    "one_hot_train=to_categorical(y_train)\n",
    "one_hot_train\n",
    "\n",
    "one_hot_test=to_categorical(y_test)\n",
    "one_hot_test"
   ]
  },
  {
   "cell_type": "markdown",
   "metadata": {},
   "source": [
    "# Pre-Trained Models"
   ]
  },
  {
   "cell_type": "markdown",
   "metadata": {},
   "source": [
    "# 1. VGG16"
   ]
  },
  {
   "cell_type": "code",
   "execution_count": 14,
   "metadata": {},
   "outputs": [],
   "source": [
    "from tensorflow.keras.applications.vgg16 import VGG16\n",
    "\n",
    "base_model1 = VGG16(input_shape = (128,128, 3), # Shape of our images\n",
    "include_top = False, # Leave out the last fully connected layer\n",
    "weights = 'imagenet')"
   ]
  },
  {
   "cell_type": "code",
   "execution_count": 15,
   "metadata": {},
   "outputs": [],
   "source": [
    "for layer in base_model1.layers:\n",
    "    layer.trainable = False"
   ]
  },
  {
   "cell_type": "code",
   "execution_count": 16,
   "metadata": {},
   "outputs": [],
   "source": [
    "# Flatten the output layer to 1 dimension\n",
    "x = layers.Flatten()(base_model1.output)\n",
    "\n",
    "# Add a fully connected layer with 512 hidden units and ReLU activation\n",
    "x = layers.Dense(512, activation='relu')(x)\n",
    "\n",
    "# Add a dropout \n",
    "x = layers.Dropout(0.3)(x)\n",
    "\n",
    "x = layers.Dense(3, activation='softmax')(x)\n",
    "\n",
    "model1 = tf.keras.models.Model(base_model1.input, x)\n",
    "\n",
    "model1.compile(optimizer = \"adam\", loss = 'categorical_crossentropy',metrics = ['acc'])"
   ]
  },
  {
   "cell_type": "code",
   "execution_count": 17,
   "metadata": {},
   "outputs": [
    {
     "name": "stdout",
     "output_type": "stream",
     "text": [
      "Epoch 1/10\n",
      "204/204 [==============================] - 633s 3s/step - loss: 0.6746 - acc: 0.7793 - val_loss: 0.1775 - val_acc: 0.9311\n",
      "Epoch 2/10\n",
      "204/204 [==============================] - 641s 3s/step - loss: 0.1688 - acc: 0.9373 - val_loss: 0.1758 - val_acc: 0.9298\n",
      "Epoch 3/10\n",
      "204/204 [==============================] - 641s 3s/step - loss: 0.1517 - acc: 0.9365 - val_loss: 0.1189 - val_acc: 0.9588\n",
      "Epoch 4/10\n",
      "204/204 [==============================] - 638s 3s/step - loss: 0.1067 - acc: 0.9596 - val_loss: 0.1345 - val_acc: 0.9532\n",
      "Epoch 5/10\n",
      "204/204 [==============================] - 641s 3s/step - loss: 0.0948 - acc: 0.9673 - val_loss: 0.1294 - val_acc: 0.9625\n",
      "Epoch 6/10\n",
      "204/204 [==============================] - 625s 3s/step - loss: 0.0862 - acc: 0.9679 - val_loss: 0.1100 - val_acc: 0.9662\n",
      "Epoch 7/10\n",
      "204/204 [==============================] - 632s 3s/step - loss: 0.0902 - acc: 0.9681 - val_loss: 0.1261 - val_acc: 0.9594\n",
      "Epoch 8/10\n",
      "204/204 [==============================] - 623s 3s/step - loss: 0.0771 - acc: 0.9655 - val_loss: 0.2007 - val_acc: 0.9218\n",
      "Epoch 9/10\n",
      "204/204 [==============================] - 626s 3s/step - loss: 0.1338 - acc: 0.9419 - val_loss: 0.1117 - val_acc: 0.9637\n",
      "Epoch 10/10\n",
      "204/204 [==============================] - 618s 3s/step - loss: 0.0662 - acc: 0.9739 - val_loss: 0.1080 - val_acc: 0.9649\n"
     ]
    }
   ],
   "source": [
    "vgghist = model1.fit(X_train,one_hot_train,validation_split=0.2,epochs = 10)"
   ]
  },
  {
   "cell_type": "markdown",
   "metadata": {},
   "source": [
    "### Training Score"
   ]
  },
  {
   "cell_type": "code",
   "execution_count": 18,
   "metadata": {},
   "outputs": [
    {
     "name": "stdout",
     "output_type": "stream",
     "text": [
      "254/254 [==============================] - 606s 2s/step - loss: 0.0451 - acc: 0.9867\n"
     ]
    },
    {
     "data": {
      "text/plain": [
       "(0.04507894814014435, 0.9867027997970581)"
      ]
     },
     "execution_count": 18,
     "metadata": {},
     "output_type": "execute_result"
    }
   ],
   "source": [
    "train_loss,train_acc=model1.evaluate(X_train,one_hot_train)\n",
    "train_loss,train_acc"
   ]
  },
  {
   "cell_type": "markdown",
   "metadata": {},
   "source": [
    "### Testing Score"
   ]
  },
  {
   "cell_type": "code",
   "execution_count": 19,
   "metadata": {},
   "outputs": [
    {
     "name": "stdout",
     "output_type": "stream",
     "text": [
      "64/64 [==============================] - 153s 2s/step - loss: 0.0832 - acc: 0.9754\n"
     ]
    },
    {
     "data": {
      "text/plain": [
       "(0.0832076370716095, 0.9754058122634888)"
      ]
     },
     "execution_count": 19,
     "metadata": {},
     "output_type": "execute_result"
    }
   ],
   "source": [
    "test_loss,test_acc=model1.evaluate(X_test,one_hot_test)\n",
    "test_loss,test_acc"
   ]
  },
  {
   "cell_type": "markdown",
   "metadata": {},
   "source": [
    "## Learning Curves"
   ]
  },
  {
   "cell_type": "code",
   "execution_count": 20,
   "metadata": {},
   "outputs": [
    {
     "data": {
      "image/png": "[encoded data removed]",
      "text/plain": [
       "<Figure size 432x288 with 1 Axes>"
      ]
     },
     "metadata": {
      "needs_background": "light"
     },
     "output_type": "display_data"
    }
   ],
   "source": [
    "plt.plot(vgghist.history['acc'])\n",
    "plt.plot(vgghist.history['val_acc'])\n",
    "plt.title('Classifier Accuracy')\n",
    "plt.ylabel('Accuracy')\n",
    "plt.xlabel('Epoch')\n",
    "plt.legend(['Train','Validation'],loc='upper left')\n",
    "plt.show()"
   ]
  },
  {
   "cell_type": "code",
   "execution_count": 21,
   "metadata": {},
   "outputs": [
    {
     "data": {
      "image/png": "[encoded data removed]",
      "text/plain": [
       "<Figure size 432x288 with 1 Axes>"
      ]
     },
     "metadata": {
      "needs_background": "light"
     },
     "output_type": "display_data"
    }
   ],
   "source": [
    "plt.plot(vgghist.history['loss'])\n",
    "plt.plot(vgghist.history['val_loss'])\n",
    "plt.title('Classifier Accuracy')\n",
    "plt.ylabel('Accuracy')\n",
    "plt.xlabel('Epoch')\n",
    "plt.legend(['Train','Validation'],loc='upper left')\n",
    "plt.show()"
   ]
  },
  {
   "cell_type": "code",
   "execution_count": 41,
   "metadata": {},
   "outputs": [],
   "source": [
    "import cv2\n",
    "img1=cv2.imread(\"D:\\\\Sem6\\\\Minor_Project\\\\TEST\\\\NORMAL_1.png\")\n",
    "img1=cv2.resize(img1,(128,128))\n",
    "img1=np.array(img1).reshape(-1,128,128,3)\n",
    "img1=img1/255.0"
   ]
  },
  {
   "cell_type": "code",
   "execution_count": 42,
   "metadata": {},
   "outputs": [],
   "source": [
    "y_pred = np.argmax(model1.predict(img1), axis=-1)"
   ]
  },
  {
   "cell_type": "code",
   "execution_count": 43,
   "metadata": {},
   "outputs": [
    {
     "name": "stdout",
     "output_type": "stream",
     "text": [
      "Normal\n"
     ]
    }
   ],
   "source": [
    "if y_pred == 0:\n",
    "    print(\"Bacterial Pneumonia\")\n",
    "elif y_pred == 1:\n",
    "    print(\"Covid-19\")\n",
    "else: \n",
    "    print(\"Normal\")"
   ]
  },
  {
   "cell_type": "code",
   "execution_count": 91,
   "metadata": {},
   "outputs": [],
   "source": [
    "model1.save('vgg16three.h5')"
   ]
  },
  {
   "cell_type": "code",
   "execution_count": 36,
   "metadata": {},
   "outputs": [],
   "source": [
    "model1=keras.models.load_model('vgg16three.h5')"
   ]
  },
  {
   "cell_type": "markdown",
   "metadata": {},
   "source": [
    "# 2. RESNET 50"
   ]
  },
  {
   "cell_type": "code",
   "execution_count": 14,
   "metadata": {},
   "outputs": [],
   "source": [
    "from tensorflow.keras.applications.resnet50 import ResNet50\n",
    "\n",
    "base_model2 = ResNet50(input_shape = (128,128, 3), # Shape of our images\n",
    "include_top = False, # Leave out the last fully connected layer\n",
    "weights = 'imagenet')"
   ]
  },
  {
   "cell_type": "code",
   "execution_count": 15,
   "metadata": {},
   "outputs": [],
   "source": [
    "for layer in base_model2.layers:\n",
    "    layer.trainable = False"
   ]
  },
  {
   "cell_type": "code",
   "execution_count": 32,
   "metadata": {},
   "outputs": [],
   "source": [
    "# Flatten the output layer to 1 dimension\n",
    "x = layers.Flatten()(base_model2.output)\n",
    "\n",
    "# Add a fully connected layer with 512 hidden units and ReLU activation\n",
    "x = layers.Dense(512, activation='relu')(x)\n",
    "\n",
    "# Add a dropout \n",
    "x = layers.Dropout(0.3)(x)\n",
    "\n",
    "# Add a final sigmoid layer for classification\n",
    "x = layers.Dense(3, activation='softmax')(x)\n",
    "\n",
    "model2 = tf.keras.models.Model(base_model2.input, x)\n",
    "\n",
    "model2.compile(optimizer = \"adam\", loss = 'categorical_crossentropy',metrics = ['acc'])"
   ]
  },
  {
   "cell_type": "code",
   "execution_count": 33,
   "metadata": {},
   "outputs": [
    {
     "name": "stdout",
     "output_type": "stream",
     "text": [
      "Epoch 1/10\n",
      "204/204 [==============================] - 312s 1s/step - loss: 1.2320 - acc: 0.4509 - val_loss: 0.8469 - val_acc: 0.5391\n",
      "Epoch 2/10\n",
      "204/204 [==============================] - 285s 1s/step - loss: 0.7577 - acc: 0.6653 - val_loss: 0.6523 - val_acc: 0.7200\n",
      "Epoch 3/10\n",
      "204/204 [==============================] - 292s 1s/step - loss: 0.5804 - acc: 0.7488 - val_loss: 0.5705 - val_acc: 0.7329\n",
      "Epoch 4/10\n",
      "204/204 [==============================] - 290s 1s/step - loss: 0.5195 - acc: 0.7609 - val_loss: 0.4791 - val_acc: 0.7902\n",
      "Epoch 5/10\n",
      "204/204 [==============================] - 282s 1s/step - loss: 0.4407 - acc: 0.8174 - val_loss: 0.5036 - val_acc: 0.7828\n",
      "Epoch 6/10\n",
      "204/204 [==============================] - 275s 1s/step - loss: 0.4900 - acc: 0.7848 - val_loss: 0.4206 - val_acc: 0.8246\n",
      "Epoch 7/10\n",
      "204/204 [==============================] - 275s 1s/step - loss: 0.4380 - acc: 0.8028 - val_loss: 0.3822 - val_acc: 0.8369\n",
      "Epoch 8/10\n",
      "204/204 [==============================] - 274s 1s/step - loss: 0.4081 - acc: 0.8199 - val_loss: 0.3643 - val_acc: 0.8437\n",
      "Epoch 9/10\n",
      "204/204 [==============================] - 274s 1s/step - loss: 0.3899 - acc: 0.8240 - val_loss: 0.4057 - val_acc: 0.8252\n",
      "Epoch 10/10\n",
      "204/204 [==============================] - 279s 1s/step - loss: 0.3841 - acc: 0.8313 - val_loss: 0.3545 - val_acc: 0.8431\n"
     ]
    }
   ],
   "source": [
    "reshist = model2.fit(X_train,one_hot_train,validation_split=0.2,epochs = 10)"
   ]
  },
  {
   "cell_type": "markdown",
   "metadata": {},
   "source": [
    "### Training score and loss"
   ]
  },
  {
   "cell_type": "code",
   "execution_count": 36,
   "metadata": {},
   "outputs": [
    {
     "name": "stdout",
     "output_type": "stream",
     "text": [
      "254/254 [==============================] - 270s 1s/step - loss: 0.3460 - acc: 0.8455\n"
     ]
    },
    {
     "data": {
      "text/plain": [
       "(0.34599804878234863, 0.8454813957214355)"
      ]
     },
     "execution_count": 36,
     "metadata": {},
     "output_type": "execute_result"
    }
   ],
   "source": [
    "train_loss1,train_acc1=model2.evaluate(X_train,one_hot_train)\n",
    "train_loss1,train_acc1"
   ]
  },
  {
   "cell_type": "markdown",
   "metadata": {},
   "source": [
    "### Testing score and loss"
   ]
  },
  {
   "cell_type": "code",
   "execution_count": 37,
   "metadata": {},
   "outputs": [
    {
     "name": "stdout",
     "output_type": "stream",
     "text": [
      "64/64 [==============================] - 66s 1s/step - loss: 0.3606 - acc: 0.8431\n"
     ]
    },
    {
     "data": {
      "text/plain": [
       "(0.360634446144104, 0.8430890440940857)"
      ]
     },
     "execution_count": 37,
     "metadata": {},
     "output_type": "execute_result"
    }
   ],
   "source": [
    "test_loss1,test_acc1=model2.evaluate(X_test,one_hot_test)\n",
    "test_loss1,test_acc1"
   ]
  },
  {
   "cell_type": "markdown",
   "metadata": {},
   "source": [
    "## Learning Curves"
   ]
  },
  {
   "cell_type": "code",
   "execution_count": 34,
   "metadata": {},
   "outputs": [
    {
     "data": {
      "image/png": "[encoded data removed]",
      "text/plain": [
       "<Figure size 432x288 with 1 Axes>"
      ]
     },
     "metadata": {
      "needs_background": "light"
     },
     "output_type": "display_data"
    }
   ],
   "source": [
    "plt.plot(reshist.history['acc'])\n",
    "plt.plot(reshist.history['val_acc'])\n",
    "plt.title('Classifier Accuracy')\n",
    "plt.ylabel('Accuracy')\n",
    "plt.xlabel('Epoch')\n",
    "plt.legend(['Train','Validation'],loc='upper left')\n",
    "plt.show()"
   ]
  },
  {
   "cell_type": "code",
   "execution_count": 35,
   "metadata": {},
   "outputs": [
    {
     "data": {
      "image/png": "[encoded data removed]",
      "text/plain": [
       "<Figure size 432x288 with 1 Axes>"
      ]
     },
     "metadata": {
      "needs_background": "light"
     },
     "output_type": "display_data"
    }
   ],
   "source": [
    "plt.plot(reshist.history['loss'])\n",
    "plt.plot(reshist.history['val_loss'])\n",
    "plt.title('Classifier Accuracy')\n",
    "plt.ylabel('Accuracy')\n",
    "plt.xlabel('Epoch')\n",
    "plt.legend(['Train','Validation'],loc='upper left')\n",
    "plt.show()"
   ]
  },
  {
   "cell_type": "code",
   "execution_count": 45,
   "metadata": {},
   "outputs": [],
   "source": [
    "import cv2\n",
    "img2=cv2.imread(\"D:\\\\Sem6\\\\Minor_Project\\\\TEST\\\\NORMAL_1.png\")\n",
    "img2=cv2.resize(img2,(128,128))\n",
    "img2=np.array(img2).reshape(-1,128,128,3)\n",
    "img2=img2/255.0"
   ]
  },
  {
   "cell_type": "code",
   "execution_count": 48,
   "metadata": {},
   "outputs": [],
   "source": [
    "y_pred = np.argmax(model2.predict(img2), axis=-1)"
   ]
  },
  {
   "cell_type": "code",
   "execution_count": 49,
   "metadata": {},
   "outputs": [
    {
     "name": "stdout",
     "output_type": "stream",
     "text": [
      "Normal\n"
     ]
    }
   ],
   "source": [
    "if y_pred == 0:\n",
    "    print(\"Bacterial Pneumonia\")\n",
    "elif y_pred == 1:\n",
    "    print(\"Covid-19\")\n",
    "else: \n",
    "    print(\"Normal\")"
   ]
  },
  {
   "cell_type": "code",
   "execution_count": 42,
   "metadata": {},
   "outputs": [],
   "source": [
    "model2.save('resnet50four.h5')"
   ]
  },
  {
   "cell_type": "code",
   "execution_count": 44,
   "metadata": {},
   "outputs": [],
   "source": [
    "model2=keras.models.load_model('resnet50four.h5')"
   ]
  },
  {
   "cell_type": "markdown",
   "metadata": {},
   "source": [
    "# 3. Inception_V3"
   ]
  },
  {
   "cell_type": "code",
   "execution_count": 17,
   "metadata": {},
   "outputs": [],
   "source": [
    "from tensorflow.keras.applications.inception_v3 import InceptionV3\n",
    "\n",
    "base_model3 = InceptionV3(input_shape = (128,128, 3), # Shape of our images\n",
    "include_top = False, # Leave out the last fully connected layer\n",
    "weights = 'imagenet')"
   ]
  },
  {
   "cell_type": "code",
   "execution_count": 18,
   "metadata": {},
   "outputs": [],
   "source": [
    "for layer in base_model3.layers:\n",
    "    layer.trainable = False"
   ]
  },
  {
   "cell_type": "code",
   "execution_count": 73,
   "metadata": {},
   "outputs": [],
   "source": [
    "# Flatten the output layer to 1 dimension\n",
    "x = layers.Flatten()(base_model3.output)\n",
    "\n",
    "# Add a fully connected layer with 512 hidden units and ReLU activation\n",
    "x = layers.Dense(512, activation='relu')(x)\n",
    "\n",
    "# Add a dropout \n",
    "x = layers.Dropout(0.3)(x)\n",
    "\n",
    "x = layers.Dense(3, activation='softmax')(x)\n",
    "\n",
    "model3 = tf.keras.models.Model(base_model3.input, x)\n",
    "\n",
    "model3.compile(optimizer = keras.optimizers.Adam(learning_rate=0.0001),loss = 'categorical_crossentropy',metrics = ['acc'])"
   ]
  },
  {
   "cell_type": "code",
   "execution_count": 74,
   "metadata": {},
   "outputs": [
    {
     "name": "stdout",
     "output_type": "stream",
     "text": [
      "Epoch 1/10\n",
      "204/204 [==============================] - 137s 610ms/step - loss: 1.3099 - acc: 0.5300 - val_loss: 0.4946 - val_acc: 0.7982\n",
      "Epoch 2/10\n",
      "204/204 [==============================] - 118s 578ms/step - loss: 0.6439 - acc: 0.7239 - val_loss: 0.4248 - val_acc: 0.8302\n",
      "Epoch 3/10\n",
      "204/204 [==============================] - 119s 582ms/step - loss: 0.5067 - acc: 0.7841 - val_loss: 0.3733 - val_acc: 0.8320\n",
      "Epoch 4/10\n",
      "204/204 [==============================] - 120s 590ms/step - loss: 0.4371 - acc: 0.8134 - val_loss: 0.3647 - val_acc: 0.8431\n",
      "Epoch 5/10\n",
      "204/204 [==============================] - 119s 583ms/step - loss: 0.3999 - acc: 0.8350 - val_loss: 0.3338 - val_acc: 0.8542\n",
      "Epoch 6/10\n",
      "204/204 [==============================] - 119s 586ms/step - loss: 0.3639 - acc: 0.8486 - val_loss: 0.3109 - val_acc: 0.8646\n",
      "Epoch 7/10\n",
      "204/204 [==============================] - 121s 593ms/step - loss: 0.3636 - acc: 0.8498 - val_loss: 0.3179 - val_acc: 0.8646\n",
      "Epoch 8/10\n",
      "204/204 [==============================] - 119s 584ms/step - loss: 0.3224 - acc: 0.8702 - val_loss: 0.3244 - val_acc: 0.8609\n",
      "Epoch 9/10\n",
      "204/204 [==============================] - 121s 593ms/step - loss: 0.3107 - acc: 0.8781 - val_loss: 0.2974 - val_acc: 0.8806\n",
      "Epoch 10/10\n",
      "204/204 [==============================] - 119s 584ms/step - loss: 0.2967 - acc: 0.8831 - val_loss: 0.3083 - val_acc: 0.8775\n"
     ]
    }
   ],
   "source": [
    "xcephist = model3.fit(X_train,one_hot_train,validation_split=0.2,epochs = 10)"
   ]
  },
  {
   "cell_type": "code",
   "execution_count": 75,
   "metadata": {},
   "outputs": [
    {
     "name": "stdout",
     "output_type": "stream",
     "text": [
      "254/254 [==============================] - 117s 456ms/step - loss: 0.2270 - acc: 0.9080\n"
     ]
    },
    {
     "data": {
      "text/plain": [
       "(0.22698974609375, 0.9080275893211365)"
      ]
     },
     "execution_count": 75,
     "metadata": {},
     "output_type": "execute_result"
    }
   ],
   "source": [
    "train_loss3,train_acc3=model3.evaluate(X_train,one_hot_train)\n",
    "train_loss3,train_acc3"
   ]
  },
  {
   "cell_type": "code",
   "execution_count": 76,
   "metadata": {},
   "outputs": [
    {
     "name": "stdout",
     "output_type": "stream",
     "text": [
      "64/64 [==============================] - 29s 457ms/step - loss: 0.2814 - acc: 0.8834\n"
     ]
    },
    {
     "data": {
      "text/plain": [
       "(0.28141239285469055, 0.8834235072135925)"
      ]
     },
     "execution_count": 76,
     "metadata": {},
     "output_type": "execute_result"
    }
   ],
   "source": [
    "test_loss3,test_acc3=model3.evaluate(X_test,one_hot_test)\n",
    "test_loss3,test_acc3"
   ]
  },
  {
   "cell_type": "code",
   "execution_count": 77,
   "metadata": {},
   "outputs": [
    {
     "data": {
      "image/png": "[encoded data removed]",
      "text/plain": [
       "<Figure size 432x288 with 1 Axes>"
      ]
     },
     "metadata": {
      "needs_background": "light"
     },
     "output_type": "display_data"
    }
   ],
   "source": [
    "plt.plot(xcephist.history['acc'])\n",
    "plt.plot(xcephist.history['val_acc'])\n",
    "plt.title('Classifier Accuracy')\n",
    "plt.ylabel('Accuracy')\n",
    "plt.xlabel('Epoch')\n",
    "plt.legend(['Train','Validation'],loc='upper left')\n",
    "plt.show()"
   ]
  },
  {
   "cell_type": "code",
   "execution_count": 78,
   "metadata": {},
   "outputs": [
    {
     "data": {
      "image/png": "[encoded data removed]",
      "text/plain": [
       "<Figure size 432x288 with 1 Axes>"
      ]
     },
     "metadata": {
      "needs_background": "light"
     },
     "output_type": "display_data"
    }
   ],
   "source": [
    "plt.plot(xcephist.history['loss'])\n",
    "plt.plot(xcephist.history['val_loss'])\n",
    "plt.title('Classifier Loss')\n",
    "plt.ylabel('Accuracy')\n",
    "plt.xlabel('Epoch')\n",
    "plt.legend(['Train','Validation'],loc='upper left')\n",
    "plt.show()"
   ]
  },
  {
   "cell_type": "code",
   "execution_count": 51,
   "metadata": {},
   "outputs": [],
   "source": [
    "import cv2\n",
    "img3=cv2.imread(\"D:\\\\Sem6\\\\Minor_Project\\\\TEST\\\\COVID_722.png\")\n",
    "img3=cv2.resize(img3,(128,128))\n",
    "img3=np.array(img3).reshape(-1,128,128,3)\n",
    "img3=img3/255.0"
   ]
  },
  {
   "cell_type": "code",
   "execution_count": 54,
   "metadata": {},
   "outputs": [],
   "source": [
    "y_pred = np.argmax(model3.predict(img3), axis=-1)"
   ]
  },
  {
   "cell_type": "code",
   "execution_count": 55,
   "metadata": {},
   "outputs": [
    {
     "name": "stdout",
     "output_type": "stream",
     "text": [
      "Covid-19\n"
     ]
    }
   ],
   "source": [
    "if y_pred == 0:\n",
    "    print(\"Bacterial Pneumonia\")\n",
    "elif y_pred == 1:\n",
    "    print(\"Covid-19\")\n",
    "else: \n",
    "    print(\"Normal\")"
   ]
  },
  {
   "cell_type": "code",
   "execution_count": 79,
   "metadata": {},
   "outputs": [],
   "source": [
    "model3.save('inceptionthree.h5')"
   ]
  },
  {
   "cell_type": "code",
   "execution_count": 50,
   "metadata": {},
   "outputs": [],
   "source": [
    "model3=keras.models.load_model('inceptionthree.h5')"
   ]
  }
 ],
 "metadata": {
  "kernelspec": {
   "display_name": "Python 3",
   "language": "python",
   "name": "python3"
  },
  "language_info": {
   "codemirror_mode": {
    "name": "ipython",
    "version": 3
   },
   "file_extension": ".py",
   "mimetype": "text/x-python",
   "name": "python",
   "nbconvert_exporter": "python",
   "pygments_lexer": "ipython3",
   "version": "3.8.3"
  }
 },
 "nbformat": 4,
 "nbformat_minor": 4
}
